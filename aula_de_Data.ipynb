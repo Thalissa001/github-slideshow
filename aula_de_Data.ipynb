{
  "nbformat": 4,
  "nbformat_minor": 0,
  "metadata": {
    "colab": {
      "name": "aula de Data.ipynb",
      "provenance": [],
      "authorship_tag": "ABX9TyP35irrzxJgp1KPZHphk8uC",
      "include_colab_link": true
    },
    "kernelspec": {
      "name": "python3",
      "display_name": "Python 3"
    },
    "language_info": {
      "name": "python"
    }
  },
  "cells": [
    {
      "cell_type": "markdown",
      "metadata": {
        "id": "view-in-github",
        "colab_type": "text"
      },
      "source": [
        "<a href=\"https://colab.research.google.com/github/Thalissa001/github-slideshow/blob/master/aula_de_Data.ipynb\" target=\"_parent\"><img src=\"https://colab.research.google.com/assets/colab-badge.svg\" alt=\"Open In Colab\"/></a>"
      ]
    },
    {
      "cell_type": "code",
      "metadata": {
        "colab": {
          "base_uri": "https://localhost:8080/",
          "height": 414
        },
        "id": "DENbzh-sampC",
        "outputId": "7c6e3101-bbc5-400e-faf8-3821225e3226"
      },
      "source": [
        "import pandas  as pd \n",
        "pd.read_csv(\"ratings.csv\")\n",
        " "
      ],
      "execution_count": 4,
      "outputs": [
        {
          "output_type": "execute_result",
          "data": {
            "text/html": [
              "<div>\n",
              "<style scoped>\n",
              "    .dataframe tbody tr th:only-of-type {\n",
              "        vertical-align: middle;\n",
              "    }\n",
              "\n",
              "    .dataframe tbody tr th {\n",
              "        vertical-align: top;\n",
              "    }\n",
              "\n",
              "    .dataframe thead th {\n",
              "        text-align: right;\n",
              "    }\n",
              "</style>\n",
              "<table border=\"1\" class=\"dataframe\">\n",
              "  <thead>\n",
              "    <tr style=\"text-align: right;\">\n",
              "      <th></th>\n",
              "      <th>userId</th>\n",
              "      <th>movieId</th>\n",
              "      <th>rating</th>\n",
              "      <th>timestamp</th>\n",
              "    </tr>\n",
              "  </thead>\n",
              "  <tbody>\n",
              "    <tr>\n",
              "      <th>0</th>\n",
              "      <td>1</td>\n",
              "      <td>1</td>\n",
              "      <td>4.0</td>\n",
              "      <td>9.649827e+08</td>\n",
              "    </tr>\n",
              "    <tr>\n",
              "      <th>1</th>\n",
              "      <td>1</td>\n",
              "      <td>3</td>\n",
              "      <td>4.0</td>\n",
              "      <td>9.649812e+08</td>\n",
              "    </tr>\n",
              "    <tr>\n",
              "      <th>2</th>\n",
              "      <td>1</td>\n",
              "      <td>6</td>\n",
              "      <td>4.0</td>\n",
              "      <td>9.649822e+08</td>\n",
              "    </tr>\n",
              "    <tr>\n",
              "      <th>3</th>\n",
              "      <td>1</td>\n",
              "      <td>47</td>\n",
              "      <td>5.0</td>\n",
              "      <td>9.649838e+08</td>\n",
              "    </tr>\n",
              "    <tr>\n",
              "      <th>4</th>\n",
              "      <td>1</td>\n",
              "      <td>50</td>\n",
              "      <td>5.0</td>\n",
              "      <td>9.649829e+08</td>\n",
              "    </tr>\n",
              "    <tr>\n",
              "      <th>...</th>\n",
              "      <td>...</td>\n",
              "      <td>...</td>\n",
              "      <td>...</td>\n",
              "      <td>...</td>\n",
              "    </tr>\n",
              "    <tr>\n",
              "      <th>43079</th>\n",
              "      <td>288</td>\n",
              "      <td>32587</td>\n",
              "      <td>4.5</td>\n",
              "      <td>1.130179e+09</td>\n",
              "    </tr>\n",
              "    <tr>\n",
              "      <th>43080</th>\n",
              "      <td>288</td>\n",
              "      <td>32598</td>\n",
              "      <td>3.5</td>\n",
              "      <td>1.145817e+09</td>\n",
              "    </tr>\n",
              "    <tr>\n",
              "      <th>43081</th>\n",
              "      <td>288</td>\n",
              "      <td>33004</td>\n",
              "      <td>3.5</td>\n",
              "      <td>1.135790e+09</td>\n",
              "    </tr>\n",
              "    <tr>\n",
              "      <th>43082</th>\n",
              "      <td>288</td>\n",
              "      <td>33164</td>\n",
              "      <td>2.5</td>\n",
              "      <td>1.138807e+09</td>\n",
              "    </tr>\n",
              "    <tr>\n",
              "      <th>43083</th>\n",
              "      <td>288</td>\n",
              "      <td>33166</td>\n",
              "      <td>4.0</td>\n",
              "      <td>NaN</td>\n",
              "    </tr>\n",
              "  </tbody>\n",
              "</table>\n",
              "<p>43084 rows × 4 columns</p>\n",
              "</div>"
            ],
            "text/plain": [
              "       userId  movieId  rating     timestamp\n",
              "0           1        1     4.0  9.649827e+08\n",
              "1           1        3     4.0  9.649812e+08\n",
              "2           1        6     4.0  9.649822e+08\n",
              "3           1       47     5.0  9.649838e+08\n",
              "4           1       50     5.0  9.649829e+08\n",
              "...       ...      ...     ...           ...\n",
              "43079     288    32587     4.5  1.130179e+09\n",
              "43080     288    32598     3.5  1.145817e+09\n",
              "43081     288    33004     3.5  1.135790e+09\n",
              "43082     288    33164     2.5  1.138807e+09\n",
              "43083     288    33166     4.0           NaN\n",
              "\n",
              "[43084 rows x 4 columns]"
            ]
          },
          "metadata": {
            "tags": []
          },
          "execution_count": 4
        }
      ]
    },
    {
      "cell_type": "code",
      "metadata": {
        "id": "F__OGstSa5kl"
      },
      "source": [
        ""
      ],
      "execution_count": null,
      "outputs": []
    }
  ]
}